{
 "cells": [
  {
   "cell_type": "code",
   "execution_count": 2,
   "id": "0d5b6548",
   "metadata": {},
   "outputs": [],
   "source": [
    "from bs4 import BeautifulSoup as bs\n",
    "import pandas as pd\n",
    "import requests as r\n"
   ]
  },
  {
   "cell_type": "code",
   "execution_count": null,
   "id": "99daa4ce",
   "metadata": {},
   "outputs": [],
   "source": [
    "url = 'https://www.imdb.com/chart/top/'\n",
    "x = r.get(url)\n",
    "soup = bs(x.content)\n",
    "print(soup.prettify())\n",
    "\n"
   ]
  },
  {
   "cell_type": "code",
   "execution_count": null,
   "id": "51b58264",
   "metadata": {},
   "outputs": [],
   "source": [
    "x = soup.find_all(\"td\", class_= \"titleColumn\")\n",
    "y = soup.find_all(\"span\", class_ = \"secondaryInfo\")\n",
    "z = soup.find_all(\"td\", class_=\"ratingColumn imdbRating\")\n",
    "for i in range(len(x)):\n",
    "    print(\"Movie rank is \" , i,\": Name is \",x[i].a.text , \": Release year is \", y[i].text, \": Rating = \", z[i].text )\n",
    "    print(\"---------------------------------------------------------------------------------------------------------\")\n"
   ]
  },
  {
   "cell_type": "code",
   "execution_count": null,
   "id": "b3a9ecc5",
   "metadata": {},
   "outputs": [],
   "source": [
    "movie_df = pd.DataFrame(columns = [\"NAME\", \"YEAR\", \"RATING\"], index = rank)\n",
    "for i in range(0,len(x)):\n",
    "    movie_df.loc[i, \"NAME\"] = x[i].a.text\n",
    "    movie_df.loc[i, \"YEAR\"] =  y[i].text\n",
    "    movie_df.loc[i, \"RATING\"] = z[i].text.strip()\n",
    "movie_df.index = np.arange(1, 251)\n",
    "movie_df"
   ]
  },
  {
   "cell_type": "markdown",
   "id": "bca31efe",
   "metadata": {},
   "source": [
    "## TOP TEN HIGHEST AND LOWEST RATED MOVIES"
   ]
  },
  {
   "cell_type": "code",
   "execution_count": null,
   "id": "2a92416d",
   "metadata": {},
   "outputs": [],
   "source": [
    "movie_df.head(10)"
   ]
  },
  {
   "cell_type": "code",
   "execution_count": null,
   "id": "4258f788",
   "metadata": {},
   "outputs": [],
   "source": [
    "movie_df.tail(10)"
   ]
  },
  {
   "cell_type": "code",
   "execution_count": null,
   "id": "37537618",
   "metadata": {},
   "outputs": [],
   "source": []
  }
 ],
 "metadata": {
  "kernelspec": {
   "display_name": "Python 3",
   "language": "python",
   "name": "python3"
  },
  "language_info": {
   "codemirror_mode": {
    "name": "ipython",
    "version": 3
   },
   "file_extension": ".py",
   "mimetype": "text/x-python",
   "name": "python",
   "nbconvert_exporter": "python",
   "pygments_lexer": "ipython3",
   "version": "3.8.8"
  }
 },
 "nbformat": 4,
 "nbformat_minor": 5
}
